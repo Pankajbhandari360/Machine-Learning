{
 "cells": [
  {
   "cell_type": "code",
   "execution_count": 1,
   "id": "1bd891ea",
   "metadata": {
    "_cell_guid": "b1076dfc-b9ad-4769-8c92-a6c4dae69d19",
    "_uuid": "8f2839f25d086af736a60e9eeb907d3b93b6e0e5",
    "execution": {
     "iopub.execute_input": "2023-01-06T12:41:39.183886Z",
     "iopub.status.busy": "2023-01-06T12:41:39.183420Z",
     "iopub.status.idle": "2023-01-06T12:41:39.203164Z",
     "shell.execute_reply": "2023-01-06T12:41:39.201936Z"
    },
    "papermill": {
     "duration": 0.034799,
     "end_time": "2023-01-06T12:41:39.205924",
     "exception": false,
     "start_time": "2023-01-06T12:41:39.171125",
     "status": "completed"
    },
    "tags": []
   },
   "outputs": [
    {
     "name": "stdout",
     "output_type": "stream",
     "text": [
      "/kaggle/input/pima-indians-diabetes-database/diabetes.csv\n"
     ]
    }
   ],
   "source": [
    "# This Python 3 environment comes with many helpful analytics libraries installed\n",
    "# It is defined by the kaggle/python Docker image: https://github.com/kaggle/docker-python\n",
    "# For example, here's several helpful packages to load\n",
    "\n",
    "import numpy as np # linear algebra\n",
    "import pandas as pd # data processing, CSV file I/O (e.g. pd.read_csv)\n",
    "\n",
    "# Input data files are available in the read-only \"../input/\" directory\n",
    "# For example, running this (by clicking run or pressing Shift+Enter) will list all files under the input directory\n",
    "\n",
    "import os\n",
    "for dirname, _, filenames in os.walk('/kaggle/input'):\n",
    "    for filename in filenames:\n",
    "        print(os.path.join(dirname, filename))\n",
    "\n",
    "# You can write up to 20GB to the current directory (/kaggle/working/) that gets preserved as output when you create a version using \"Save & Run All\" \n",
    "# You can also write temporary files to /kaggle/temp/, but they won't be saved outside of the current session"
   ]
  },
  {
   "cell_type": "code",
   "execution_count": 2,
   "id": "3be0d776",
   "metadata": {
    "execution": {
     "iopub.execute_input": "2023-01-06T12:41:39.224859Z",
     "iopub.status.busy": "2023-01-06T12:41:39.223632Z",
     "iopub.status.idle": "2023-01-06T12:41:39.229311Z",
     "shell.execute_reply": "2023-01-06T12:41:39.228479Z"
    },
    "papermill": {
     "duration": 0.017678,
     "end_time": "2023-01-06T12:41:39.231927",
     "exception": false,
     "start_time": "2023-01-06T12:41:39.214249",
     "status": "completed"
    },
    "tags": []
   },
   "outputs": [],
   "source": [
    "#LOGISTIC REGRESSION"
   ]
  },
  {
   "cell_type": "code",
   "execution_count": 3,
   "id": "01bb7afe",
   "metadata": {
    "execution": {
     "iopub.execute_input": "2023-01-06T12:41:39.250807Z",
     "iopub.status.busy": "2023-01-06T12:41:39.250383Z",
     "iopub.status.idle": "2023-01-06T12:41:39.297260Z",
     "shell.execute_reply": "2023-01-06T12:41:39.295981Z"
    },
    "papermill": {
     "duration": 0.059438,
     "end_time": "2023-01-06T12:41:39.299831",
     "exception": false,
     "start_time": "2023-01-06T12:41:39.240393",
     "status": "completed"
    },
    "tags": []
   },
   "outputs": [
    {
     "data": {
      "text/html": [
       "<div>\n",
       "<style scoped>\n",
       "    .dataframe tbody tr th:only-of-type {\n",
       "        vertical-align: middle;\n",
       "    }\n",
       "\n",
       "    .dataframe tbody tr th {\n",
       "        vertical-align: top;\n",
       "    }\n",
       "\n",
       "    .dataframe thead th {\n",
       "        text-align: right;\n",
       "    }\n",
       "</style>\n",
       "<table border=\"1\" class=\"dataframe\">\n",
       "  <thead>\n",
       "    <tr style=\"text-align: right;\">\n",
       "      <th></th>\n",
       "      <th>Pregnancies</th>\n",
       "      <th>Glucose</th>\n",
       "      <th>BloodPressure</th>\n",
       "      <th>SkinThickness</th>\n",
       "      <th>Insulin</th>\n",
       "      <th>BMI</th>\n",
       "      <th>DiabetesPedigreeFunction</th>\n",
       "      <th>Age</th>\n",
       "      <th>Outcome</th>\n",
       "    </tr>\n",
       "  </thead>\n",
       "  <tbody>\n",
       "    <tr>\n",
       "      <th>0</th>\n",
       "      <td>6</td>\n",
       "      <td>148</td>\n",
       "      <td>72</td>\n",
       "      <td>35</td>\n",
       "      <td>0</td>\n",
       "      <td>33.6</td>\n",
       "      <td>0.627</td>\n",
       "      <td>50</td>\n",
       "      <td>1</td>\n",
       "    </tr>\n",
       "    <tr>\n",
       "      <th>1</th>\n",
       "      <td>1</td>\n",
       "      <td>85</td>\n",
       "      <td>66</td>\n",
       "      <td>29</td>\n",
       "      <td>0</td>\n",
       "      <td>26.6</td>\n",
       "      <td>0.351</td>\n",
       "      <td>31</td>\n",
       "      <td>0</td>\n",
       "    </tr>\n",
       "  </tbody>\n",
       "</table>\n",
       "</div>"
      ],
      "text/plain": [
       "   Pregnancies  Glucose  BloodPressure  SkinThickness  Insulin   BMI  \\\n",
       "0            6      148             72             35        0  33.6   \n",
       "1            1       85             66             29        0  26.6   \n",
       "\n",
       "   DiabetesPedigreeFunction  Age  Outcome  \n",
       "0                     0.627   50        1  \n",
       "1                     0.351   31        0  "
      ]
     },
     "execution_count": 3,
     "metadata": {},
     "output_type": "execute_result"
    }
   ],
   "source": [
    "df=pd.read_csv(\"/kaggle/input/pima-indians-diabetes-database/diabetes.csv\")\n",
    "df.head(2)"
   ]
  },
  {
   "cell_type": "code",
   "execution_count": 4,
   "id": "849ccfbb",
   "metadata": {
    "execution": {
     "iopub.execute_input": "2023-01-06T12:41:39.318027Z",
     "iopub.status.busy": "2023-01-06T12:41:39.317366Z",
     "iopub.status.idle": "2023-01-06T12:41:39.370785Z",
     "shell.execute_reply": "2023-01-06T12:41:39.369452Z"
    },
    "papermill": {
     "duration": 0.065837,
     "end_time": "2023-01-06T12:41:39.373822",
     "exception": false,
     "start_time": "2023-01-06T12:41:39.307985",
     "status": "completed"
    },
    "tags": []
   },
   "outputs": [
    {
     "data": {
      "text/html": [
       "<div>\n",
       "<style scoped>\n",
       "    .dataframe tbody tr th:only-of-type {\n",
       "        vertical-align: middle;\n",
       "    }\n",
       "\n",
       "    .dataframe tbody tr th {\n",
       "        vertical-align: top;\n",
       "    }\n",
       "\n",
       "    .dataframe thead th {\n",
       "        text-align: right;\n",
       "    }\n",
       "</style>\n",
       "<table border=\"1\" class=\"dataframe\">\n",
       "  <thead>\n",
       "    <tr style=\"text-align: right;\">\n",
       "      <th></th>\n",
       "      <th>count</th>\n",
       "      <th>mean</th>\n",
       "      <th>std</th>\n",
       "      <th>min</th>\n",
       "      <th>25%</th>\n",
       "      <th>50%</th>\n",
       "      <th>75%</th>\n",
       "      <th>max</th>\n",
       "    </tr>\n",
       "  </thead>\n",
       "  <tbody>\n",
       "    <tr>\n",
       "      <th>Pregnancies</th>\n",
       "      <td>768.0</td>\n",
       "      <td>3.845052</td>\n",
       "      <td>3.369578</td>\n",
       "      <td>0.000</td>\n",
       "      <td>1.00000</td>\n",
       "      <td>3.0000</td>\n",
       "      <td>6.00000</td>\n",
       "      <td>17.00</td>\n",
       "    </tr>\n",
       "    <tr>\n",
       "      <th>Glucose</th>\n",
       "      <td>768.0</td>\n",
       "      <td>120.894531</td>\n",
       "      <td>31.972618</td>\n",
       "      <td>0.000</td>\n",
       "      <td>99.00000</td>\n",
       "      <td>117.0000</td>\n",
       "      <td>140.25000</td>\n",
       "      <td>199.00</td>\n",
       "    </tr>\n",
       "    <tr>\n",
       "      <th>BloodPressure</th>\n",
       "      <td>768.0</td>\n",
       "      <td>69.105469</td>\n",
       "      <td>19.355807</td>\n",
       "      <td>0.000</td>\n",
       "      <td>62.00000</td>\n",
       "      <td>72.0000</td>\n",
       "      <td>80.00000</td>\n",
       "      <td>122.00</td>\n",
       "    </tr>\n",
       "    <tr>\n",
       "      <th>SkinThickness</th>\n",
       "      <td>768.0</td>\n",
       "      <td>20.536458</td>\n",
       "      <td>15.952218</td>\n",
       "      <td>0.000</td>\n",
       "      <td>0.00000</td>\n",
       "      <td>23.0000</td>\n",
       "      <td>32.00000</td>\n",
       "      <td>99.00</td>\n",
       "    </tr>\n",
       "    <tr>\n",
       "      <th>Insulin</th>\n",
       "      <td>768.0</td>\n",
       "      <td>79.799479</td>\n",
       "      <td>115.244002</td>\n",
       "      <td>0.000</td>\n",
       "      <td>0.00000</td>\n",
       "      <td>30.5000</td>\n",
       "      <td>127.25000</td>\n",
       "      <td>846.00</td>\n",
       "    </tr>\n",
       "    <tr>\n",
       "      <th>BMI</th>\n",
       "      <td>768.0</td>\n",
       "      <td>31.992578</td>\n",
       "      <td>7.884160</td>\n",
       "      <td>0.000</td>\n",
       "      <td>27.30000</td>\n",
       "      <td>32.0000</td>\n",
       "      <td>36.60000</td>\n",
       "      <td>67.10</td>\n",
       "    </tr>\n",
       "    <tr>\n",
       "      <th>DiabetesPedigreeFunction</th>\n",
       "      <td>768.0</td>\n",
       "      <td>0.471876</td>\n",
       "      <td>0.331329</td>\n",
       "      <td>0.078</td>\n",
       "      <td>0.24375</td>\n",
       "      <td>0.3725</td>\n",
       "      <td>0.62625</td>\n",
       "      <td>2.42</td>\n",
       "    </tr>\n",
       "    <tr>\n",
       "      <th>Age</th>\n",
       "      <td>768.0</td>\n",
       "      <td>33.240885</td>\n",
       "      <td>11.760232</td>\n",
       "      <td>21.000</td>\n",
       "      <td>24.00000</td>\n",
       "      <td>29.0000</td>\n",
       "      <td>41.00000</td>\n",
       "      <td>81.00</td>\n",
       "    </tr>\n",
       "    <tr>\n",
       "      <th>Outcome</th>\n",
       "      <td>768.0</td>\n",
       "      <td>0.348958</td>\n",
       "      <td>0.476951</td>\n",
       "      <td>0.000</td>\n",
       "      <td>0.00000</td>\n",
       "      <td>0.0000</td>\n",
       "      <td>1.00000</td>\n",
       "      <td>1.00</td>\n",
       "    </tr>\n",
       "  </tbody>\n",
       "</table>\n",
       "</div>"
      ],
      "text/plain": [
       "                          count        mean         std     min       25%  \\\n",
       "Pregnancies               768.0    3.845052    3.369578   0.000   1.00000   \n",
       "Glucose                   768.0  120.894531   31.972618   0.000  99.00000   \n",
       "BloodPressure             768.0   69.105469   19.355807   0.000  62.00000   \n",
       "SkinThickness             768.0   20.536458   15.952218   0.000   0.00000   \n",
       "Insulin                   768.0   79.799479  115.244002   0.000   0.00000   \n",
       "BMI                       768.0   31.992578    7.884160   0.000  27.30000   \n",
       "DiabetesPedigreeFunction  768.0    0.471876    0.331329   0.078   0.24375   \n",
       "Age                       768.0   33.240885   11.760232  21.000  24.00000   \n",
       "Outcome                   768.0    0.348958    0.476951   0.000   0.00000   \n",
       "\n",
       "                               50%        75%     max  \n",
       "Pregnancies                 3.0000    6.00000   17.00  \n",
       "Glucose                   117.0000  140.25000  199.00  \n",
       "BloodPressure              72.0000   80.00000  122.00  \n",
       "SkinThickness              23.0000   32.00000   99.00  \n",
       "Insulin                    30.5000  127.25000  846.00  \n",
       "BMI                        32.0000   36.60000   67.10  \n",
       "DiabetesPedigreeFunction    0.3725    0.62625    2.42  \n",
       "Age                        29.0000   41.00000   81.00  \n",
       "Outcome                     0.0000    1.00000    1.00  "
      ]
     },
     "execution_count": 4,
     "metadata": {},
     "output_type": "execute_result"
    }
   ],
   "source": [
    "df.describe().T"
   ]
  },
  {
   "cell_type": "code",
   "execution_count": 5,
   "id": "0236f2b1",
   "metadata": {
    "execution": {
     "iopub.execute_input": "2023-01-06T12:41:39.392944Z",
     "iopub.status.busy": "2023-01-06T12:41:39.392491Z",
     "iopub.status.idle": "2023-01-06T12:41:39.403862Z",
     "shell.execute_reply": "2023-01-06T12:41:39.402703Z"
    },
    "papermill": {
     "duration": 0.024153,
     "end_time": "2023-01-06T12:41:39.406622",
     "exception": false,
     "start_time": "2023-01-06T12:41:39.382469",
     "status": "completed"
    },
    "tags": []
   },
   "outputs": [],
   "source": [
    "#replace min value Zero\n",
    "for i in [\"Glucose\",\"BMI\",\"Insulin\",\"BloodPressure\"]:\n",
    "    df[i].replace({0:df[i].median()},inplace = True)"
   ]
  },
  {
   "cell_type": "code",
   "execution_count": 6,
   "id": "d7621370",
   "metadata": {
    "execution": {
     "iopub.execute_input": "2023-01-06T12:41:39.428695Z",
     "iopub.status.busy": "2023-01-06T12:41:39.428317Z",
     "iopub.status.idle": "2023-01-06T12:41:39.469783Z",
     "shell.execute_reply": "2023-01-06T12:41:39.468545Z"
    },
    "papermill": {
     "duration": 0.055527,
     "end_time": "2023-01-06T12:41:39.472550",
     "exception": false,
     "start_time": "2023-01-06T12:41:39.417023",
     "status": "completed"
    },
    "tags": []
   },
   "outputs": [
    {
     "data": {
      "text/html": [
       "<div>\n",
       "<style scoped>\n",
       "    .dataframe tbody tr th:only-of-type {\n",
       "        vertical-align: middle;\n",
       "    }\n",
       "\n",
       "    .dataframe tbody tr th {\n",
       "        vertical-align: top;\n",
       "    }\n",
       "\n",
       "    .dataframe thead th {\n",
       "        text-align: right;\n",
       "    }\n",
       "</style>\n",
       "<table border=\"1\" class=\"dataframe\">\n",
       "  <thead>\n",
       "    <tr style=\"text-align: right;\">\n",
       "      <th></th>\n",
       "      <th>count</th>\n",
       "      <th>mean</th>\n",
       "      <th>std</th>\n",
       "      <th>min</th>\n",
       "      <th>25%</th>\n",
       "      <th>50%</th>\n",
       "      <th>75%</th>\n",
       "      <th>max</th>\n",
       "    </tr>\n",
       "  </thead>\n",
       "  <tbody>\n",
       "    <tr>\n",
       "      <th>Pregnancies</th>\n",
       "      <td>768.0</td>\n",
       "      <td>3.845052</td>\n",
       "      <td>3.369578</td>\n",
       "      <td>0.000</td>\n",
       "      <td>1.00000</td>\n",
       "      <td>3.0000</td>\n",
       "      <td>6.00000</td>\n",
       "      <td>17.00</td>\n",
       "    </tr>\n",
       "    <tr>\n",
       "      <th>Glucose</th>\n",
       "      <td>768.0</td>\n",
       "      <td>121.656250</td>\n",
       "      <td>30.438286</td>\n",
       "      <td>44.000</td>\n",
       "      <td>99.75000</td>\n",
       "      <td>117.0000</td>\n",
       "      <td>140.25000</td>\n",
       "      <td>199.00</td>\n",
       "    </tr>\n",
       "    <tr>\n",
       "      <th>BloodPressure</th>\n",
       "      <td>768.0</td>\n",
       "      <td>72.386719</td>\n",
       "      <td>12.096642</td>\n",
       "      <td>24.000</td>\n",
       "      <td>64.00000</td>\n",
       "      <td>72.0000</td>\n",
       "      <td>80.00000</td>\n",
       "      <td>122.00</td>\n",
       "    </tr>\n",
       "    <tr>\n",
       "      <th>SkinThickness</th>\n",
       "      <td>768.0</td>\n",
       "      <td>20.536458</td>\n",
       "      <td>15.952218</td>\n",
       "      <td>0.000</td>\n",
       "      <td>0.00000</td>\n",
       "      <td>23.0000</td>\n",
       "      <td>32.00000</td>\n",
       "      <td>99.00</td>\n",
       "    </tr>\n",
       "    <tr>\n",
       "      <th>Insulin</th>\n",
       "      <td>768.0</td>\n",
       "      <td>94.652344</td>\n",
       "      <td>105.547598</td>\n",
       "      <td>14.000</td>\n",
       "      <td>30.50000</td>\n",
       "      <td>31.2500</td>\n",
       "      <td>127.25000</td>\n",
       "      <td>846.00</td>\n",
       "    </tr>\n",
       "    <tr>\n",
       "      <th>BMI</th>\n",
       "      <td>768.0</td>\n",
       "      <td>32.450911</td>\n",
       "      <td>6.875366</td>\n",
       "      <td>18.200</td>\n",
       "      <td>27.50000</td>\n",
       "      <td>32.0000</td>\n",
       "      <td>36.60000</td>\n",
       "      <td>67.10</td>\n",
       "    </tr>\n",
       "    <tr>\n",
       "      <th>DiabetesPedigreeFunction</th>\n",
       "      <td>768.0</td>\n",
       "      <td>0.471876</td>\n",
       "      <td>0.331329</td>\n",
       "      <td>0.078</td>\n",
       "      <td>0.24375</td>\n",
       "      <td>0.3725</td>\n",
       "      <td>0.62625</td>\n",
       "      <td>2.42</td>\n",
       "    </tr>\n",
       "    <tr>\n",
       "      <th>Age</th>\n",
       "      <td>768.0</td>\n",
       "      <td>33.240885</td>\n",
       "      <td>11.760232</td>\n",
       "      <td>21.000</td>\n",
       "      <td>24.00000</td>\n",
       "      <td>29.0000</td>\n",
       "      <td>41.00000</td>\n",
       "      <td>81.00</td>\n",
       "    </tr>\n",
       "    <tr>\n",
       "      <th>Outcome</th>\n",
       "      <td>768.0</td>\n",
       "      <td>0.348958</td>\n",
       "      <td>0.476951</td>\n",
       "      <td>0.000</td>\n",
       "      <td>0.00000</td>\n",
       "      <td>0.0000</td>\n",
       "      <td>1.00000</td>\n",
       "      <td>1.00</td>\n",
       "    </tr>\n",
       "  </tbody>\n",
       "</table>\n",
       "</div>"
      ],
      "text/plain": [
       "                          count        mean         std     min       25%  \\\n",
       "Pregnancies               768.0    3.845052    3.369578   0.000   1.00000   \n",
       "Glucose                   768.0  121.656250   30.438286  44.000  99.75000   \n",
       "BloodPressure             768.0   72.386719   12.096642  24.000  64.00000   \n",
       "SkinThickness             768.0   20.536458   15.952218   0.000   0.00000   \n",
       "Insulin                   768.0   94.652344  105.547598  14.000  30.50000   \n",
       "BMI                       768.0   32.450911    6.875366  18.200  27.50000   \n",
       "DiabetesPedigreeFunction  768.0    0.471876    0.331329   0.078   0.24375   \n",
       "Age                       768.0   33.240885   11.760232  21.000  24.00000   \n",
       "Outcome                   768.0    0.348958    0.476951   0.000   0.00000   \n",
       "\n",
       "                               50%        75%     max  \n",
       "Pregnancies                 3.0000    6.00000   17.00  \n",
       "Glucose                   117.0000  140.25000  199.00  \n",
       "BloodPressure              72.0000   80.00000  122.00  \n",
       "SkinThickness              23.0000   32.00000   99.00  \n",
       "Insulin                    31.2500  127.25000  846.00  \n",
       "BMI                        32.0000   36.60000   67.10  \n",
       "DiabetesPedigreeFunction    0.3725    0.62625    2.42  \n",
       "Age                        29.0000   41.00000   81.00  \n",
       "Outcome                     0.0000    1.00000    1.00  "
      ]
     },
     "execution_count": 6,
     "metadata": {},
     "output_type": "execute_result"
    }
   ],
   "source": [
    "df.describe().T"
   ]
  },
  {
   "cell_type": "code",
   "execution_count": 7,
   "id": "b03ede99",
   "metadata": {
    "execution": {
     "iopub.execute_input": "2023-01-06T12:41:39.493008Z",
     "iopub.status.busy": "2023-01-06T12:41:39.492588Z",
     "iopub.status.idle": "2023-01-06T12:41:39.499519Z",
     "shell.execute_reply": "2023-01-06T12:41:39.497999Z"
    },
    "papermill": {
     "duration": 0.019954,
     "end_time": "2023-01-06T12:41:39.502285",
     "exception": false,
     "start_time": "2023-01-06T12:41:39.482331",
     "status": "completed"
    },
    "tags": []
   },
   "outputs": [
    {
     "data": {
      "text/plain": [
       "(768, 9)"
      ]
     },
     "execution_count": 7,
     "metadata": {},
     "output_type": "execute_result"
    }
   ],
   "source": [
    "df.shape"
   ]
  },
  {
   "cell_type": "code",
   "execution_count": 8,
   "id": "d34c6b94",
   "metadata": {
    "execution": {
     "iopub.execute_input": "2023-01-06T12:41:39.523007Z",
     "iopub.status.busy": "2023-01-06T12:41:39.522563Z",
     "iopub.status.idle": "2023-01-06T12:41:39.532956Z",
     "shell.execute_reply": "2023-01-06T12:41:39.531795Z"
    },
    "papermill": {
     "duration": 0.024324,
     "end_time": "2023-01-06T12:41:39.536012",
     "exception": false,
     "start_time": "2023-01-06T12:41:39.511688",
     "status": "completed"
    },
    "tags": []
   },
   "outputs": [
    {
     "data": {
      "text/plain": [
       "Pregnancies                 0\n",
       "Glucose                     0\n",
       "BloodPressure               0\n",
       "SkinThickness               0\n",
       "Insulin                     0\n",
       "BMI                         0\n",
       "DiabetesPedigreeFunction    0\n",
       "Age                         0\n",
       "Outcome                     0\n",
       "dtype: int64"
      ]
     },
     "execution_count": 8,
     "metadata": {},
     "output_type": "execute_result"
    }
   ],
   "source": [
    "df.isna().sum()"
   ]
  },
  {
   "cell_type": "code",
   "execution_count": 9,
   "id": "63856d3e",
   "metadata": {
    "execution": {
     "iopub.execute_input": "2023-01-06T12:41:39.556933Z",
     "iopub.status.busy": "2023-01-06T12:41:39.556499Z",
     "iopub.status.idle": "2023-01-06T12:41:39.561476Z",
     "shell.execute_reply": "2023-01-06T12:41:39.560193Z"
    },
    "papermill": {
     "duration": 0.01843,
     "end_time": "2023-01-06T12:41:39.564045",
     "exception": false,
     "start_time": "2023-01-06T12:41:39.545615",
     "status": "completed"
    },
    "tags": []
   },
   "outputs": [],
   "source": [
    "#to check outliers\n",
    "import matplotlib.pyplot as plt"
   ]
  },
  {
   "cell_type": "code",
   "execution_count": 10,
   "id": "812dd5b1",
   "metadata": {
    "execution": {
     "iopub.execute_input": "2023-01-06T12:41:39.583736Z",
     "iopub.status.busy": "2023-01-06T12:41:39.583065Z",
     "iopub.status.idle": "2023-01-06T12:41:39.803268Z",
     "shell.execute_reply": "2023-01-06T12:41:39.801888Z"
    },
    "papermill": {
     "duration": 0.233122,
     "end_time": "2023-01-06T12:41:39.806107",
     "exception": false,
     "start_time": "2023-01-06T12:41:39.572985",
     "status": "completed"
    },
    "tags": []
   },
   "outputs": [
    {
     "data": {
      "text/plain": [
       "{'whiskers': [<matplotlib.lines.Line2D at 0x7f8152a72850>,\n",
       "  <matplotlib.lines.Line2D at 0x7f8152a72b50>],\n",
       " 'caps': [<matplotlib.lines.Line2D at 0x7f8152a72e90>,\n",
       "  <matplotlib.lines.Line2D at 0x7f8152a82210>],\n",
       " 'boxes': [<matplotlib.lines.Line2D at 0x7f8152a72490>],\n",
       " 'medians': [<matplotlib.lines.Line2D at 0x7f8152a82590>],\n",
       " 'fliers': [<matplotlib.lines.Line2D at 0x7f8152a828d0>],\n",
       " 'means': []}"
      ]
     },
     "execution_count": 10,
     "metadata": {},
     "output_type": "execute_result"
    },
    {
     "data": {
      "image/png": "[encoded data removed]",
      "text/plain": [
       "<Figure size 432x288 with 1 Axes>"
      ]
     },
     "metadata": {
      "needs_background": "light"
     },
     "output_type": "display_data"
    }
   ],
   "source": [
    "plt.boxplot(df[\"Insulin\"])"
   ]
  },
  {
   "cell_type": "code",
   "execution_count": 11,
   "id": "a5df5ce7",
   "metadata": {
    "execution": {
     "iopub.execute_input": "2023-01-06T12:41:39.827625Z",
     "iopub.status.busy": "2023-01-06T12:41:39.827228Z",
     "iopub.status.idle": "2023-01-06T12:41:40.018421Z",
     "shell.execute_reply": "2023-01-06T12:41:40.017107Z"
    },
    "papermill": {
     "duration": 0.205919,
     "end_time": "2023-01-06T12:41:40.021571",
     "exception": false,
     "start_time": "2023-01-06T12:41:39.815652",
     "status": "completed"
    },
    "tags": []
   },
   "outputs": [
    {
     "data": {
      "text/plain": [
       "{'whiskers': [<matplotlib.lines.Line2D at 0x7f815297b590>,\n",
       "  <matplotlib.lines.Line2D at 0x7f815297b9d0>],\n",
       " 'caps': [<matplotlib.lines.Line2D at 0x7f815297bd10>,\n",
       "  <matplotlib.lines.Line2D at 0x7f8152987090>],\n",
       " 'boxes': [<matplotlib.lines.Line2D at 0x7f815297b4d0>],\n",
       " 'medians': [<matplotlib.lines.Line2D at 0x7f8152987410>],\n",
       " 'fliers': [<matplotlib.lines.Line2D at 0x7f8152987750>],\n",
       " 'means': []}"
      ]
     },
     "execution_count": 11,
     "metadata": {},
     "output_type": "execute_result"
    },
    {
     "data": {
      "image/png": "[encoded data removed]",
      "text/plain": [
       "<Figure size 432x288 with 1 Axes>"
      ]
     },
     "metadata": {
      "needs_background": "light"
     },
     "output_type": "display_data"
    }
   ],
   "source": [
    "plt.boxplot(df[\"Age\"])"
   ]
  },
  {
   "cell_type": "code",
   "execution_count": 12,
   "id": "1645fd38",
   "metadata": {
    "execution": {
     "iopub.execute_input": "2023-01-06T12:41:40.043337Z",
     "iopub.status.busy": "2023-01-06T12:41:40.042890Z",
     "iopub.status.idle": "2023-01-06T12:41:40.048926Z",
     "shell.execute_reply": "2023-01-06T12:41:40.047949Z"
    },
    "papermill": {
     "duration": 0.02018,
     "end_time": "2023-01-06T12:41:40.051424",
     "exception": false,
     "start_time": "2023-01-06T12:41:40.031244",
     "status": "completed"
    },
    "tags": []
   },
   "outputs": [],
   "source": [
    "x=np.quantile(df[\"Insulin\"],[0,.10,.25,.50,.75,.80,.90,.99])"
   ]
  },
  {
   "cell_type": "code",
   "execution_count": 13,
   "id": "53c9127b",
   "metadata": {
    "execution": {
     "iopub.execute_input": "2023-01-06T12:41:40.073130Z",
     "iopub.status.busy": "2023-01-06T12:41:40.072315Z",
     "iopub.status.idle": "2023-01-06T12:41:40.080797Z",
     "shell.execute_reply": "2023-01-06T12:41:40.079685Z"
    },
    "papermill": {
     "duration": 0.022177,
     "end_time": "2023-01-06T12:41:40.083200",
     "exception": false,
     "start_time": "2023-01-06T12:41:40.061023",
     "status": "completed"
    },
    "tags": []
   },
   "outputs": [
    {
     "data": {
      "text/plain": [
       "-114.625"
      ]
     },
     "execution_count": 13,
     "metadata": {},
     "output_type": "execute_result"
    }
   ],
   "source": [
    "iqr=x[4]-x[2]\n",
    "iqr\n",
    "uw=x[4]+1.5*iqr\n",
    "uw #upper whisker for check to start outlier\n",
    "lw=x[2]-1.5*iqr\n",
    "lw"
   ]
  },
  {
   "cell_type": "code",
   "execution_count": 14,
   "id": "320c2bb2",
   "metadata": {
    "execution": {
     "iopub.execute_input": "2023-01-06T12:41:40.105358Z",
     "iopub.status.busy": "2023-01-06T12:41:40.104530Z",
     "iopub.status.idle": "2023-01-06T12:41:40.112063Z",
     "shell.execute_reply": "2023-01-06T12:41:40.111209Z"
    },
    "papermill": {
     "duration": 0.021127,
     "end_time": "2023-01-06T12:41:40.114524",
     "exception": false,
     "start_time": "2023-01-06T12:41:40.093397",
     "status": "completed"
    },
    "tags": []
   },
   "outputs": [],
   "source": [
    "def outlier_treatment():\n",
    "    l=[\"BMI\",\"Glucose\",\"SkinThickness\",\"Age\",\"BloodPressure\",\"Insulin\",\"Pregnancies\",\"DiabetesPedigreeFunction\"]\n",
    "    for i in l:\n",
    "        np.quantile(df[i],[.25,.75])\n",
    "        iqr=x[1]-x[0]\n",
    "        uw=x[1]+1.5*iqr\n",
    "        uw\n",
    "        lw=x[0]-1.5*iqr\n",
    "        lw\n",
    "        df[i]=np.where(df[i]>uw,uw,(np.where(df[i]<lw,lw,df[i])))"
   ]
  },
  {
   "cell_type": "code",
   "execution_count": 15,
   "id": "3be6eada",
   "metadata": {
    "execution": {
     "iopub.execute_input": "2023-01-06T12:41:40.135920Z",
     "iopub.status.busy": "2023-01-06T12:41:40.135119Z",
     "iopub.status.idle": "2023-01-06T12:41:40.147152Z",
     "shell.execute_reply": "2023-01-06T12:41:40.145772Z"
    },
    "papermill": {
     "duration": 0.02718,
     "end_time": "2023-01-06T12:41:40.151028",
     "exception": false,
     "start_time": "2023-01-06T12:41:40.123848",
     "status": "completed"
    },
    "tags": []
   },
   "outputs": [],
   "source": [
    "outlier_treatment()"
   ]
  },
  {
   "cell_type": "code",
   "execution_count": 16,
   "id": "7ed3c650",
   "metadata": {
    "execution": {
     "iopub.execute_input": "2023-01-06T12:41:40.174236Z",
     "iopub.status.busy": "2023-01-06T12:41:40.173098Z",
     "iopub.status.idle": "2023-01-06T12:41:41.074665Z",
     "shell.execute_reply": "2023-01-06T12:41:41.073234Z"
    },
    "papermill": {
     "duration": 0.916806,
     "end_time": "2023-01-06T12:41:41.077878",
     "exception": false,
     "start_time": "2023-01-06T12:41:40.161072",
     "status": "completed"
    },
    "tags": []
   },
   "outputs": [
    {
     "data": {
      "image/png": "[encoded data removed]",
      "text/plain": [
       "<Figure size 1080x720 with 7 Axes>"
      ]
     },
     "metadata": {
      "needs_background": "light"
     },
     "output_type": "display_data"
    }
   ],
   "source": [
    "pno=1\n",
    "plt.figure(figsize=(15,10))\n",
    "for i in [\"BMI\",\"SkinThickness\",\"Age\",\"BloodPressure\",\"Insulin\",\"Pregnancies\",\"DiabetesPedigreeFunction\"]:\n",
    "    if pno<9:\n",
    "        plt.subplot(3,3,pno)\n",
    "        plt.boxplot(df[i])\n",
    "        plt.xlabel(i)\n",
    "        pno+=1"
   ]
  },
  {
   "cell_type": "code",
   "execution_count": 17,
   "id": "cc2f7209",
   "metadata": {
    "execution": {
     "iopub.execute_input": "2023-01-06T12:41:41.102009Z",
     "iopub.status.busy": "2023-01-06T12:41:41.101523Z",
     "iopub.status.idle": "2023-01-06T12:41:41.109040Z",
     "shell.execute_reply": "2023-01-06T12:41:41.107890Z"
    },
    "papermill": {
     "duration": 0.022611,
     "end_time": "2023-01-06T12:41:41.111728",
     "exception": false,
     "start_time": "2023-01-06T12:41:41.089117",
     "status": "completed"
    },
    "tags": []
   },
   "outputs": [],
   "source": [
    "x=df.drop(columns=[\"Outcome\"])\n",
    "y=df[\"Outcome\"]"
   ]
  },
  {
   "cell_type": "code",
   "execution_count": 18,
   "id": "8430f06c",
   "metadata": {
    "execution": {
     "iopub.execute_input": "2023-01-06T12:41:41.135216Z",
     "iopub.status.busy": "2023-01-06T12:41:41.134782Z",
     "iopub.status.idle": "2023-01-06T12:41:41.147387Z",
     "shell.execute_reply": "2023-01-06T12:41:41.146492Z"
    },
    "papermill": {
     "duration": 0.027582,
     "end_time": "2023-01-06T12:41:41.149752",
     "exception": false,
     "start_time": "2023-01-06T12:41:41.122170",
     "status": "completed"
    },
    "tags": []
   },
   "outputs": [
    {
     "data": {
      "text/plain": [
       "Outcome                     1.000000\n",
       "BMI                         0.312670\n",
       "Age                         0.269949\n",
       "Pregnancies                 0.221898\n",
       "DiabetesPedigreeFunction    0.173844\n",
       "SkinThickness               0.070288\n",
       "BloodPressure               0.035234\n",
       "Glucose                     0.026435\n",
       "Insulin                    -0.006650\n",
       "Name: Outcome, dtype: float64"
      ]
     },
     "execution_count": 18,
     "metadata": {},
     "output_type": "execute_result"
    }
   ],
   "source": [
    "df.corr()[\"Outcome\"].sort_values(ascending=False)"
   ]
  },
  {
   "cell_type": "code",
   "execution_count": 19,
   "id": "bf8d1907",
   "metadata": {
    "execution": {
     "iopub.execute_input": "2023-01-06T12:41:41.174406Z",
     "iopub.status.busy": "2023-01-06T12:41:41.173620Z",
     "iopub.status.idle": "2023-01-06T12:41:42.313370Z",
     "shell.execute_reply": "2023-01-06T12:41:42.311815Z"
    },
    "papermill": {
     "duration": 1.155404,
     "end_time": "2023-01-06T12:41:42.316258",
     "exception": false,
     "start_time": "2023-01-06T12:41:41.160854",
     "status": "completed"
    },
    "tags": []
   },
   "outputs": [],
   "source": [
    "from sklearn.model_selection import train_test_split"
   ]
  },
  {
   "cell_type": "code",
   "execution_count": 20,
   "id": "3e7da573",
   "metadata": {
    "execution": {
     "iopub.execute_input": "2023-01-06T12:41:42.342329Z",
     "iopub.status.busy": "2023-01-06T12:41:42.341341Z",
     "iopub.status.idle": "2023-01-06T12:41:42.349812Z",
     "shell.execute_reply": "2023-01-06T12:41:42.348653Z"
    },
    "papermill": {
     "duration": 0.024618,
     "end_time": "2023-01-06T12:41:42.352583",
     "exception": false,
     "start_time": "2023-01-06T12:41:42.327965",
     "status": "completed"
    },
    "tags": []
   },
   "outputs": [],
   "source": [
    "x_train,x_test,y_train,y_test=train_test_split(x,y,test_size=.02,random_state=123)"
   ]
  },
  {
   "cell_type": "code",
   "execution_count": 21,
   "id": "57b9347a",
   "metadata": {
    "execution": {
     "iopub.execute_input": "2023-01-06T12:41:42.377142Z",
     "iopub.status.busy": "2023-01-06T12:41:42.376178Z",
     "iopub.status.idle": "2023-01-06T12:41:42.470448Z",
     "shell.execute_reply": "2023-01-06T12:41:42.469282Z"
    },
    "papermill": {
     "duration": 0.110172,
     "end_time": "2023-01-06T12:41:42.473734",
     "exception": false,
     "start_time": "2023-01-06T12:41:42.363562",
     "status": "completed"
    },
    "tags": []
   },
   "outputs": [],
   "source": [
    "from sklearn.linear_model import LogisticRegression"
   ]
  },
  {
   "cell_type": "code",
   "execution_count": 22,
   "id": "f87ccae4",
   "metadata": {
    "execution": {
     "iopub.execute_input": "2023-01-06T12:41:42.496983Z",
     "iopub.status.busy": "2023-01-06T12:41:42.495777Z",
     "iopub.status.idle": "2023-01-06T12:41:42.541492Z",
     "shell.execute_reply": "2023-01-06T12:41:42.540005Z"
    },
    "papermill": {
     "duration": 0.060714,
     "end_time": "2023-01-06T12:41:42.545130",
     "exception": false,
     "start_time": "2023-01-06T12:41:42.484416",
     "status": "completed"
    },
    "tags": []
   },
   "outputs": [
    {
     "data": {
      "text/plain": [
       "LogisticRegression()"
      ]
     },
     "execution_count": 22,
     "metadata": {},
     "output_type": "execute_result"
    }
   ],
   "source": [
    "logreg=LogisticRegression()\n",
    "logreg.fit(x_train,y_train)"
   ]
  },
  {
   "cell_type": "code",
   "execution_count": 23,
   "id": "4e6b3ac1",
   "metadata": {
    "execution": {
     "iopub.execute_input": "2023-01-06T12:41:42.569798Z",
     "iopub.status.busy": "2023-01-06T12:41:42.568560Z",
     "iopub.status.idle": "2023-01-06T12:41:42.577181Z",
     "shell.execute_reply": "2023-01-06T12:41:42.575996Z"
    },
    "papermill": {
     "duration": 0.023792,
     "end_time": "2023-01-06T12:41:42.580112",
     "exception": false,
     "start_time": "2023-01-06T12:41:42.556320",
     "status": "completed"
    },
    "tags": []
   },
   "outputs": [],
   "source": [
    "y_pred=logreg.predict(x_test)"
   ]
  },
  {
   "cell_type": "code",
   "execution_count": 24,
   "id": "bd1ef648",
   "metadata": {
    "execution": {
     "iopub.execute_input": "2023-01-06T12:41:42.605857Z",
     "iopub.status.busy": "2023-01-06T12:41:42.605355Z",
     "iopub.status.idle": "2023-01-06T12:41:42.611780Z",
     "shell.execute_reply": "2023-01-06T12:41:42.610463Z"
    },
    "papermill": {
     "duration": 0.02322,
     "end_time": "2023-01-06T12:41:42.614822",
     "exception": false,
     "start_time": "2023-01-06T12:41:42.591602",
     "status": "completed"
    },
    "tags": []
   },
   "outputs": [],
   "source": [
    "from sklearn.metrics import classification_report,accuracy_score,f1_score,roc_curve,roc_auc_score,confusion_matrix"
   ]
  },
  {
   "cell_type": "code",
   "execution_count": 25,
   "id": "03646fc0",
   "metadata": {
    "execution": {
     "iopub.execute_input": "2023-01-06T12:41:42.648221Z",
     "iopub.status.busy": "2023-01-06T12:41:42.646951Z",
     "iopub.status.idle": "2023-01-06T12:41:42.659311Z",
     "shell.execute_reply": "2023-01-06T12:41:42.658006Z"
    },
    "papermill": {
     "duration": 0.031849,
     "end_time": "2023-01-06T12:41:42.662176",
     "exception": false,
     "start_time": "2023-01-06T12:41:42.630327",
     "status": "completed"
    },
    "tags": []
   },
   "outputs": [
    {
     "data": {
      "text/plain": [
       "array([[9, 0],\n",
       "       [5, 2]])"
      ]
     },
     "execution_count": 25,
     "metadata": {},
     "output_type": "execute_result"
    }
   ],
   "source": [
    "confusion_matrix(y_test,y_pred)"
   ]
  },
  {
   "cell_type": "code",
   "execution_count": 26,
   "id": "4ddf96a2",
   "metadata": {
    "execution": {
     "iopub.execute_input": "2023-01-06T12:41:42.695276Z",
     "iopub.status.busy": "2023-01-06T12:41:42.694504Z",
     "iopub.status.idle": "2023-01-06T12:41:42.703178Z",
     "shell.execute_reply": "2023-01-06T12:41:42.701955Z"
    },
    "papermill": {
     "duration": 0.028705,
     "end_time": "2023-01-06T12:41:42.706496",
     "exception": false,
     "start_time": "2023-01-06T12:41:42.677791",
     "status": "completed"
    },
    "tags": []
   },
   "outputs": [
    {
     "data": {
      "text/plain": [
       "0.6875"
      ]
     },
     "execution_count": 26,
     "metadata": {},
     "output_type": "execute_result"
    }
   ],
   "source": [
    "accuracy_score(y_test,y_pred)"
   ]
  },
  {
   "cell_type": "code",
   "execution_count": 27,
   "id": "63f812d8",
   "metadata": {
    "execution": {
     "iopub.execute_input": "2023-01-06T12:41:42.733826Z",
     "iopub.status.busy": "2023-01-06T12:41:42.733404Z",
     "iopub.status.idle": "2023-01-06T12:41:42.741843Z",
     "shell.execute_reply": "2023-01-06T12:41:42.740707Z"
    },
    "papermill": {
     "duration": 0.022564,
     "end_time": "2023-01-06T12:41:42.744220",
     "exception": false,
     "start_time": "2023-01-06T12:41:42.721656",
     "status": "completed"
    },
    "tags": []
   },
   "outputs": [
    {
     "data": {
      "text/plain": [
       "0.4444444444444445"
      ]
     },
     "execution_count": 27,
     "metadata": {},
     "output_type": "execute_result"
    }
   ],
   "source": [
    "f1_score(y_test,y_pred)"
   ]
  },
  {
   "cell_type": "code",
   "execution_count": 28,
   "id": "6233760f",
   "metadata": {
    "execution": {
     "iopub.execute_input": "2023-01-06T12:41:42.767951Z",
     "iopub.status.busy": "2023-01-06T12:41:42.766822Z",
     "iopub.status.idle": "2023-01-06T12:41:42.778322Z",
     "shell.execute_reply": "2023-01-06T12:41:42.777210Z"
    },
    "papermill": {
     "duration": 0.027632,
     "end_time": "2023-01-06T12:41:42.782289",
     "exception": false,
     "start_time": "2023-01-06T12:41:42.754657",
     "status": "completed"
    },
    "tags": []
   },
   "outputs": [
    {
     "name": "stdout",
     "output_type": "stream",
     "text": [
      "              precision    recall  f1-score   support\n",
      "\n",
      "           0       0.64      1.00      0.78         9\n",
      "           1       1.00      0.29      0.44         7\n",
      "\n",
      "    accuracy                           0.69        16\n",
      "   macro avg       0.82      0.64      0.61        16\n",
      "weighted avg       0.80      0.69      0.63        16\n",
      "\n"
     ]
    }
   ],
   "source": [
    "cls1=classification_report(y_test,y_pred)\n",
    "print(cls1)"
   ]
  },
  {
   "cell_type": "code",
   "execution_count": 29,
   "id": "30ef12c1",
   "metadata": {
    "execution": {
     "iopub.execute_input": "2023-01-06T12:41:42.807658Z",
     "iopub.status.busy": "2023-01-06T12:41:42.806716Z",
     "iopub.status.idle": "2023-01-06T12:41:42.816237Z",
     "shell.execute_reply": "2023-01-06T12:41:42.814994Z"
    },
    "papermill": {
     "duration": 0.026496,
     "end_time": "2023-01-06T12:41:42.820183",
     "exception": false,
     "start_time": "2023-01-06T12:41:42.793687",
     "status": "completed"
    },
    "tags": []
   },
   "outputs": [
    {
     "name": "stdout",
     "output_type": "stream",
     "text": [
      "[0. 0. 1.]\n",
      "[0.         0.28571429 1.        ]\n",
      "[2 1 0]\n"
     ]
    }
   ],
   "source": [
    "fpr,tpr,thershold=roc_curve(y_test,y_pred)\n",
    "print(fpr)\n",
    "print(tpr)\n",
    "print(thershold)"
   ]
  },
  {
   "cell_type": "code",
   "execution_count": 30,
   "id": "23e67bed",
   "metadata": {
    "execution": {
     "iopub.execute_input": "2023-01-06T12:41:42.844124Z",
     "iopub.status.busy": "2023-01-06T12:41:42.843689Z",
     "iopub.status.idle": "2023-01-06T12:41:42.853307Z",
     "shell.execute_reply": "2023-01-06T12:41:42.851804Z"
    },
    "papermill": {
     "duration": 0.024147,
     "end_time": "2023-01-06T12:41:42.855938",
     "exception": false,
     "start_time": "2023-01-06T12:41:42.831791",
     "status": "completed"
    },
    "tags": []
   },
   "outputs": [
    {
     "data": {
      "text/plain": [
       "0.6428571428571428"
      ]
     },
     "execution_count": 30,
     "metadata": {},
     "output_type": "execute_result"
    }
   ],
   "source": [
    "roc_auc_score(y_test,y_pred)"
   ]
  },
  {
   "cell_type": "code",
   "execution_count": 31,
   "id": "1456b2f3",
   "metadata": {
    "execution": {
     "iopub.execute_input": "2023-01-06T12:41:42.881080Z",
     "iopub.status.busy": "2023-01-06T12:41:42.879700Z",
     "iopub.status.idle": "2023-01-06T12:41:43.126407Z",
     "shell.execute_reply": "2023-01-06T12:41:43.125182Z"
    },
    "papermill": {
     "duration": 0.261696,
     "end_time": "2023-01-06T12:41:43.129276",
     "exception": false,
     "start_time": "2023-01-06T12:41:42.867580",
     "status": "completed"
    },
    "tags": []
   },
   "outputs": [
    {
     "data": {
      "text/plain": [
       "<matplotlib.legend.Legend at 0x7f811c122b10>"
      ]
     },
     "execution_count": 31,
     "metadata": {},
     "output_type": "execute_result"
    },
    {
     "data": {
      "image/png": "[encoded data removed]",
      "text/plain": [
       "<Figure size 432x288 with 1 Axes>"
      ]
     },
     "metadata": {
      "needs_background": "light"
     },
     "output_type": "display_data"
    }
   ],
   "source": [
    "plt.plot(fpr,tpr,marker=\"o\");\n",
    "plt.plot([0,.2,.4,.6,.8,1],[0,.2,.4,.6,.8,1],\"--\")\n",
    "plt.legend([.64,.5])"
   ]
  },
  {
   "cell_type": "code",
   "execution_count": null,
   "id": "99b96417",
   "metadata": {
    "papermill": {
     "duration": 0.011,
     "end_time": "2023-01-06T12:41:43.151627",
     "exception": false,
     "start_time": "2023-01-06T12:41:43.140627",
     "status": "completed"
    },
    "tags": []
   },
   "outputs": [],
   "source": []
  }
 ],
 "metadata": {
  "kernelspec": {
   "display_name": "Python 3",
   "language": "python",
   "name": "python3"
  },
  "language_info": {
   "codemirror_mode": {
    "name": "ipython",
    "version": 3
   },
   "file_extension": ".py",
   "mimetype": "text/x-python",
   "name": "python",
   "nbconvert_exporter": "python",
   "pygments_lexer": "ipython3",
   "version": "3.7.12"
  },
  "papermill": {
   "default_parameters": {},
   "duration": 14.013641,
   "end_time": "2023-01-06T12:41:43.986549",
   "environment_variables": {},
   "exception": null,
   "input_path": "__notebook__.ipynb",
   "output_path": "__notebook__.ipynb",
   "parameters": {},
   "start_time": "2023-01-06T12:41:29.972908",
   "version": "2.3.4"
  }
 },
 "nbformat": 4,
 "nbformat_minor": 5
}
