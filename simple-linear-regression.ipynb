{
 "cells": [
  {
   "cell_type": "code",
   "execution_count": 1,
   "id": "98d32169",
   "metadata": {
    "_cell_guid": "b1076dfc-b9ad-4769-8c92-a6c4dae69d19",
    "_uuid": "8f2839f25d086af736a60e9eeb907d3b93b6e0e5",
    "execution": {
     "iopub.execute_input": "2022-11-12T15:46:58.049958Z",
     "iopub.status.busy": "2022-11-12T15:46:58.049190Z",
     "iopub.status.idle": "2022-11-12T15:46:58.068604Z",
     "shell.execute_reply": "2022-11-12T15:46:58.067680Z"
    },
    "papermill": {
     "duration": 0.031683,
     "end_time": "2022-11-12T15:46:58.071577",
     "exception": false,
     "start_time": "2022-11-12T15:46:58.039894",
     "status": "completed"
    },
    "tags": []
   },
   "outputs": [
    {
     "name": "stdout",
     "output_type": "stream",
     "text": [
      "/kaggle/input/salary-data-simple-linear-regression/Salary_Data.csv\n"
     ]
    }
   ],
   "source": [
    "# This Python 3 environment comes with many helpful analytics libraries installed\n",
    "# It is defined by the kaggle/python Docker image: https://github.com/kaggle/docker-python\n",
    "# For example, here's several helpful packages to load\n",
    "\n",
    "import numpy as np # linear algebra\n",
    "import pandas as pd # data processing, CSV file I/O (e.g. pd.read_csv)\n",
    "\n",
    "# Input data files are available in the read-only \"../input/\" directory\n",
    "# For example, running this (by clicking run or pressing Shift+Enter) will list all files under the input directory\n",
    "\n",
    "import os\n",
    "for dirname, _, filenames in os.walk('/kaggle/input'):\n",
    "    for filename in filenames:\n",
    "        print(os.path.join(dirname, filename))\n",
    "\n",
    "# You can write up to 20GB to the current directory (/kaggle/working/) that gets preserved as output when you create a version using \"Save & Run All\" \n",
    "# You can also write temporary files to /kaggle/temp/, but they won't be saved outside of the current session"
   ]
  },
  {
   "cell_type": "code",
   "execution_count": 2,
   "id": "e100a593",
   "metadata": {
    "execution": {
     "iopub.execute_input": "2022-11-12T15:46:58.087176Z",
     "iopub.status.busy": "2022-11-12T15:46:58.086456Z",
     "iopub.status.idle": "2022-11-12T15:46:58.125508Z",
     "shell.execute_reply": "2022-11-12T15:46:58.124379Z"
    },
    "papermill": {
     "duration": 0.049555,
     "end_time": "2022-11-12T15:46:58.128237",
     "exception": false,
     "start_time": "2022-11-12T15:46:58.078682",
     "status": "completed"
    },
    "tags": []
   },
   "outputs": [
    {
     "data": {
      "text/html": [
       "<div>\n",
       "<style scoped>\n",
       "    .dataframe tbody tr th:only-of-type {\n",
       "        vertical-align: middle;\n",
       "    }\n",
       "\n",
       "    .dataframe tbody tr th {\n",
       "        vertical-align: top;\n",
       "    }\n",
       "\n",
       "    .dataframe thead th {\n",
       "        text-align: right;\n",
       "    }\n",
       "</style>\n",
       "<table border=\"1\" class=\"dataframe\">\n",
       "  <thead>\n",
       "    <tr style=\"text-align: right;\">\n",
       "      <th></th>\n",
       "      <th>YearsExperience</th>\n",
       "      <th>Salary</th>\n",
       "    </tr>\n",
       "  </thead>\n",
       "  <tbody>\n",
       "    <tr>\n",
       "      <th>0</th>\n",
       "      <td>1.1</td>\n",
       "      <td>39343.0</td>\n",
       "    </tr>\n",
       "    <tr>\n",
       "      <th>1</th>\n",
       "      <td>1.3</td>\n",
       "      <td>46205.0</td>\n",
       "    </tr>\n",
       "  </tbody>\n",
       "</table>\n",
       "</div>"
      ],
      "text/plain": [
       "   YearsExperience   Salary\n",
       "0              1.1  39343.0\n",
       "1              1.3  46205.0"
      ]
     },
     "execution_count": 2,
     "metadata": {},
     "output_type": "execute_result"
    }
   ],
   "source": [
    "df=pd.read_csv(\"/kaggle/input/salary-data-simple-linear-regression/Salary_Data.csv\")\n",
    "df.head(2)"
   ]
  },
  {
   "cell_type": "code",
   "execution_count": 3,
   "id": "b488af44",
   "metadata": {
    "execution": {
     "iopub.execute_input": "2022-11-12T15:46:58.143416Z",
     "iopub.status.busy": "2022-11-12T15:46:58.143039Z",
     "iopub.status.idle": "2022-11-12T15:46:58.156797Z",
     "shell.execute_reply": "2022-11-12T15:46:58.155465Z"
    },
    "papermill": {
     "duration": 0.024207,
     "end_time": "2022-11-12T15:46:58.159298",
     "exception": false,
     "start_time": "2022-11-12T15:46:58.135091",
     "status": "completed"
    },
    "tags": []
   },
   "outputs": [
    {
     "data": {
      "text/html": [
       "<div>\n",
       "<style scoped>\n",
       "    .dataframe tbody tr th:only-of-type {\n",
       "        vertical-align: middle;\n",
       "    }\n",
       "\n",
       "    .dataframe tbody tr th {\n",
       "        vertical-align: top;\n",
       "    }\n",
       "\n",
       "    .dataframe thead th {\n",
       "        text-align: right;\n",
       "    }\n",
       "</style>\n",
       "<table border=\"1\" class=\"dataframe\">\n",
       "  <thead>\n",
       "    <tr style=\"text-align: right;\">\n",
       "      <th></th>\n",
       "      <th>YearsExperience</th>\n",
       "      <th>Salary</th>\n",
       "    </tr>\n",
       "  </thead>\n",
       "  <tbody>\n",
       "    <tr>\n",
       "      <th>YearsExperience</th>\n",
       "      <td>1.000000</td>\n",
       "      <td>0.978242</td>\n",
       "    </tr>\n",
       "    <tr>\n",
       "      <th>Salary</th>\n",
       "      <td>0.978242</td>\n",
       "      <td>1.000000</td>\n",
       "    </tr>\n",
       "  </tbody>\n",
       "</table>\n",
       "</div>"
      ],
      "text/plain": [
       "                 YearsExperience    Salary\n",
       "YearsExperience         1.000000  0.978242\n",
       "Salary                  0.978242  1.000000"
      ]
     },
     "execution_count": 3,
     "metadata": {},
     "output_type": "execute_result"
    }
   ],
   "source": [
    "df.corr()"
   ]
  },
  {
   "cell_type": "code",
   "execution_count": 4,
   "id": "5357c150",
   "metadata": {
    "execution": {
     "iopub.execute_input": "2022-11-12T15:46:58.174635Z",
     "iopub.status.busy": "2022-11-12T15:46:58.174220Z",
     "iopub.status.idle": "2022-11-12T15:46:58.184474Z",
     "shell.execute_reply": "2022-11-12T15:46:58.183243Z"
    },
    "papermill": {
     "duration": 0.020531,
     "end_time": "2022-11-12T15:46:58.186719",
     "exception": false,
     "start_time": "2022-11-12T15:46:58.166188",
     "status": "completed"
    },
    "tags": []
   },
   "outputs": [],
   "source": [
    "x =df.drop(columns=[\"Salary\"])\n",
    "y =df[\"Salary\"]"
   ]
  },
  {
   "cell_type": "code",
   "execution_count": 5,
   "id": "ae67877d",
   "metadata": {
    "execution": {
     "iopub.execute_input": "2022-11-12T15:46:58.202271Z",
     "iopub.status.busy": "2022-11-12T15:46:58.201883Z",
     "iopub.status.idle": "2022-11-12T15:46:59.221107Z",
     "shell.execute_reply": "2022-11-12T15:46:59.219811Z"
    },
    "papermill": {
     "duration": 1.030363,
     "end_time": "2022-11-12T15:46:59.223906",
     "exception": false,
     "start_time": "2022-11-12T15:46:58.193543",
     "status": "completed"
    },
    "tags": []
   },
   "outputs": [],
   "source": [
    "from sklearn.model_selection import train_test_split"
   ]
  },
  {
   "cell_type": "code",
   "execution_count": 6,
   "id": "15869ccf",
   "metadata": {
    "execution": {
     "iopub.execute_input": "2022-11-12T15:46:59.240112Z",
     "iopub.status.busy": "2022-11-12T15:46:59.239694Z",
     "iopub.status.idle": "2022-11-12T15:46:59.246655Z",
     "shell.execute_reply": "2022-11-12T15:46:59.245571Z"
    },
    "papermill": {
     "duration": 0.017954,
     "end_time": "2022-11-12T15:46:59.249057",
     "exception": false,
     "start_time": "2022-11-12T15:46:59.231103",
     "status": "completed"
    },
    "tags": []
   },
   "outputs": [],
   "source": [
    "x_train,x_test,y_train,y_test=train_test_split(x,y,test_size=0.20,random_state=123)"
   ]
  },
  {
   "cell_type": "code",
   "execution_count": 7,
   "id": "ffdc92fb",
   "metadata": {
    "execution": {
     "iopub.execute_input": "2022-11-12T15:46:59.264800Z",
     "iopub.status.busy": "2022-11-12T15:46:59.264342Z",
     "iopub.status.idle": "2022-11-12T15:46:59.271901Z",
     "shell.execute_reply": "2022-11-12T15:46:59.270497Z"
    },
    "papermill": {
     "duration": 0.018521,
     "end_time": "2022-11-12T15:46:59.274505",
     "exception": false,
     "start_time": "2022-11-12T15:46:59.255984",
     "status": "completed"
    },
    "tags": []
   },
   "outputs": [
    {
     "data": {
      "text/plain": [
       "(24, 1)"
      ]
     },
     "execution_count": 7,
     "metadata": {},
     "output_type": "execute_result"
    }
   ],
   "source": [
    "x_train.shape"
   ]
  },
  {
   "cell_type": "code",
   "execution_count": 8,
   "id": "68b34f9d",
   "metadata": {
    "execution": {
     "iopub.execute_input": "2022-11-12T15:46:59.291742Z",
     "iopub.status.busy": "2022-11-12T15:46:59.291271Z",
     "iopub.status.idle": "2022-11-12T15:46:59.304716Z",
     "shell.execute_reply": "2022-11-12T15:46:59.303771Z"
    },
    "papermill": {
     "duration": 0.025289,
     "end_time": "2022-11-12T15:46:59.306781",
     "exception": false,
     "start_time": "2022-11-12T15:46:59.281492",
     "status": "completed"
    },
    "tags": []
   },
   "outputs": [
    {
     "data": {
      "text/html": [
       "<div>\n",
       "<style scoped>\n",
       "    .dataframe tbody tr th:only-of-type {\n",
       "        vertical-align: middle;\n",
       "    }\n",
       "\n",
       "    .dataframe tbody tr th {\n",
       "        vertical-align: top;\n",
       "    }\n",
       "\n",
       "    .dataframe thead th {\n",
       "        text-align: right;\n",
       "    }\n",
       "</style>\n",
       "<table border=\"1\" class=\"dataframe\">\n",
       "  <thead>\n",
       "    <tr style=\"text-align: right;\">\n",
       "      <th></th>\n",
       "      <th>YearsExperience</th>\n",
       "    </tr>\n",
       "  </thead>\n",
       "  <tbody>\n",
       "    <tr>\n",
       "      <th>12</th>\n",
       "      <td>4.0</td>\n",
       "    </tr>\n",
       "    <tr>\n",
       "      <th>21</th>\n",
       "      <td>7.1</td>\n",
       "    </tr>\n",
       "    <tr>\n",
       "      <th>11</th>\n",
       "      <td>4.0</td>\n",
       "    </tr>\n",
       "    <tr>\n",
       "      <th>23</th>\n",
       "      <td>8.2</td>\n",
       "    </tr>\n",
       "    <tr>\n",
       "      <th>18</th>\n",
       "      <td>5.9</td>\n",
       "    </tr>\n",
       "    <tr>\n",
       "      <th>4</th>\n",
       "      <td>2.2</td>\n",
       "    </tr>\n",
       "    <tr>\n",
       "      <th>3</th>\n",
       "      <td>2.0</td>\n",
       "    </tr>\n",
       "    <tr>\n",
       "      <th>24</th>\n",
       "      <td>8.7</td>\n",
       "    </tr>\n",
       "    <tr>\n",
       "      <th>16</th>\n",
       "      <td>5.1</td>\n",
       "    </tr>\n",
       "    <tr>\n",
       "      <th>14</th>\n",
       "      <td>4.5</td>\n",
       "    </tr>\n",
       "    <tr>\n",
       "      <th>20</th>\n",
       "      <td>6.8</td>\n",
       "    </tr>\n",
       "    <tr>\n",
       "      <th>9</th>\n",
       "      <td>3.7</td>\n",
       "    </tr>\n",
       "    <tr>\n",
       "      <th>15</th>\n",
       "      <td>4.9</td>\n",
       "    </tr>\n",
       "    <tr>\n",
       "      <th>25</th>\n",
       "      <td>9.0</td>\n",
       "    </tr>\n",
       "    <tr>\n",
       "      <th>0</th>\n",
       "      <td>1.1</td>\n",
       "    </tr>\n",
       "    <tr>\n",
       "      <th>1</th>\n",
       "      <td>1.3</td>\n",
       "    </tr>\n",
       "    <tr>\n",
       "      <th>22</th>\n",
       "      <td>7.9</td>\n",
       "    </tr>\n",
       "    <tr>\n",
       "      <th>10</th>\n",
       "      <td>3.9</td>\n",
       "    </tr>\n",
       "    <tr>\n",
       "      <th>19</th>\n",
       "      <td>6.0</td>\n",
       "    </tr>\n",
       "    <tr>\n",
       "      <th>17</th>\n",
       "      <td>5.3</td>\n",
       "    </tr>\n",
       "    <tr>\n",
       "      <th>6</th>\n",
       "      <td>3.0</td>\n",
       "    </tr>\n",
       "    <tr>\n",
       "      <th>28</th>\n",
       "      <td>10.3</td>\n",
       "    </tr>\n",
       "    <tr>\n",
       "      <th>2</th>\n",
       "      <td>1.5</td>\n",
       "    </tr>\n",
       "    <tr>\n",
       "      <th>13</th>\n",
       "      <td>4.1</td>\n",
       "    </tr>\n",
       "  </tbody>\n",
       "</table>\n",
       "</div>"
      ],
      "text/plain": [
       "    YearsExperience\n",
       "12              4.0\n",
       "21              7.1\n",
       "11              4.0\n",
       "23              8.2\n",
       "18              5.9\n",
       "4               2.2\n",
       "3               2.0\n",
       "24              8.7\n",
       "16              5.1\n",
       "14              4.5\n",
       "20              6.8\n",
       "9               3.7\n",
       "15              4.9\n",
       "25              9.0\n",
       "0               1.1\n",
       "1               1.3\n",
       "22              7.9\n",
       "10              3.9\n",
       "19              6.0\n",
       "17              5.3\n",
       "6               3.0\n",
       "28             10.3\n",
       "2               1.5\n",
       "13              4.1"
      ]
     },
     "execution_count": 8,
     "metadata": {},
     "output_type": "execute_result"
    }
   ],
   "source": [
    "x_train"
   ]
  },
  {
   "cell_type": "code",
   "execution_count": 9,
   "id": "23fba1fb",
   "metadata": {
    "execution": {
     "iopub.execute_input": "2022-11-12T15:46:59.323136Z",
     "iopub.status.busy": "2022-11-12T15:46:59.322773Z",
     "iopub.status.idle": "2022-11-12T15:46:59.329483Z",
     "shell.execute_reply": "2022-11-12T15:46:59.328258Z"
    },
    "papermill": {
     "duration": 0.017779,
     "end_time": "2022-11-12T15:46:59.331831",
     "exception": false,
     "start_time": "2022-11-12T15:46:59.314052",
     "status": "completed"
    },
    "tags": []
   },
   "outputs": [
    {
     "data": {
      "text/plain": [
       "(24,)"
      ]
     },
     "execution_count": 9,
     "metadata": {},
     "output_type": "execute_result"
    }
   ],
   "source": [
    "y_train.shape"
   ]
  },
  {
   "cell_type": "code",
   "execution_count": 10,
   "id": "f5853348",
   "metadata": {
    "execution": {
     "iopub.execute_input": "2022-11-12T15:46:59.348264Z",
     "iopub.status.busy": "2022-11-12T15:46:59.347860Z",
     "iopub.status.idle": "2022-11-12T15:46:59.356519Z",
     "shell.execute_reply": "2022-11-12T15:46:59.355393Z"
    },
    "papermill": {
     "duration": 0.019702,
     "end_time": "2022-11-12T15:46:59.358905",
     "exception": false,
     "start_time": "2022-11-12T15:46:59.339203",
     "status": "completed"
    },
    "tags": []
   },
   "outputs": [
    {
     "data": {
      "text/plain": [
       "12     56957.0\n",
       "21     98273.0\n",
       "11     55794.0\n",
       "23    113812.0\n",
       "18     81363.0\n",
       "4      39891.0\n",
       "3      43525.0\n",
       "24    109431.0\n",
       "16     66029.0\n",
       "14     61111.0\n",
       "20     91738.0\n",
       "9      57189.0\n",
       "15     67938.0\n",
       "25    105582.0\n",
       "0      39343.0\n",
       "1      46205.0\n",
       "22    101302.0\n",
       "10     63218.0\n",
       "19     93940.0\n",
       "17     83088.0\n",
       "6      60150.0\n",
       "28    122391.0\n",
       "2      37731.0\n",
       "13     57081.0\n",
       "Name: Salary, dtype: float64"
      ]
     },
     "execution_count": 10,
     "metadata": {},
     "output_type": "execute_result"
    }
   ],
   "source": [
    "y_train"
   ]
  },
  {
   "cell_type": "code",
   "execution_count": 11,
   "id": "c6d2099e",
   "metadata": {
    "execution": {
     "iopub.execute_input": "2022-11-12T15:46:59.375512Z",
     "iopub.status.busy": "2022-11-12T15:46:59.375137Z",
     "iopub.status.idle": "2022-11-12T15:46:59.443020Z",
     "shell.execute_reply": "2022-11-12T15:46:59.441748Z"
    },
    "papermill": {
     "duration": 0.079611,
     "end_time": "2022-11-12T15:46:59.445879",
     "exception": false,
     "start_time": "2022-11-12T15:46:59.366268",
     "status": "completed"
    },
    "tags": []
   },
   "outputs": [],
   "source": [
    "from sklearn.linear_model import LinearRegression"
   ]
  },
  {
   "cell_type": "code",
   "execution_count": 12,
   "id": "c6f3148f",
   "metadata": {
    "execution": {
     "iopub.execute_input": "2022-11-12T15:46:59.463413Z",
     "iopub.status.busy": "2022-11-12T15:46:59.462330Z",
     "iopub.status.idle": "2022-11-12T15:46:59.467260Z",
     "shell.execute_reply": "2022-11-12T15:46:59.466100Z"
    },
    "papermill": {
     "duration": 0.016453,
     "end_time": "2022-11-12T15:46:59.470109",
     "exception": false,
     "start_time": "2022-11-12T15:46:59.453656",
     "status": "completed"
    },
    "tags": []
   },
   "outputs": [],
   "source": [
    "lr=LinearRegression()"
   ]
  },
  {
   "cell_type": "code",
   "execution_count": 13,
   "id": "4b1247c6",
   "metadata": {
    "execution": {
     "iopub.execute_input": "2022-11-12T15:46:59.487153Z",
     "iopub.status.busy": "2022-11-12T15:46:59.486190Z",
     "iopub.status.idle": "2022-11-12T15:46:59.507704Z",
     "shell.execute_reply": "2022-11-12T15:46:59.506867Z"
    },
    "papermill": {
     "duration": 0.032252,
     "end_time": "2022-11-12T15:46:59.509878",
     "exception": false,
     "start_time": "2022-11-12T15:46:59.477626",
     "status": "completed"
    },
    "tags": []
   },
   "outputs": [
    {
     "data": {
      "text/plain": [
       "LinearRegression()"
      ]
     },
     "execution_count": 13,
     "metadata": {},
     "output_type": "execute_result"
    }
   ],
   "source": [
    "lr.fit(x_train,y_train)"
   ]
  },
  {
   "cell_type": "code",
   "execution_count": 14,
   "id": "2b57ded1",
   "metadata": {
    "execution": {
     "iopub.execute_input": "2022-11-12T15:46:59.527894Z",
     "iopub.status.busy": "2022-11-12T15:46:59.527100Z",
     "iopub.status.idle": "2022-11-12T15:46:59.533992Z",
     "shell.execute_reply": "2022-11-12T15:46:59.532965Z"
    },
    "papermill": {
     "duration": 0.018301,
     "end_time": "2022-11-12T15:46:59.536135",
     "exception": false,
     "start_time": "2022-11-12T15:46:59.517834",
     "status": "completed"
    },
    "tags": []
   },
   "outputs": [
    {
     "data": {
      "text/plain": [
       "24018.566009392205"
      ]
     },
     "execution_count": 14,
     "metadata": {},
     "output_type": "execute_result"
    }
   ],
   "source": [
    "lr.intercept_"
   ]
  },
  {
   "cell_type": "code",
   "execution_count": 15,
   "id": "cdf6557d",
   "metadata": {
    "execution": {
     "iopub.execute_input": "2022-11-12T15:46:59.553259Z",
     "iopub.status.busy": "2022-11-12T15:46:59.552591Z",
     "iopub.status.idle": "2022-11-12T15:46:59.558270Z",
     "shell.execute_reply": "2022-11-12T15:46:59.557508Z"
    },
    "papermill": {
     "duration": 0.016581,
     "end_time": "2022-11-12T15:46:59.560283",
     "exception": false,
     "start_time": "2022-11-12T15:46:59.543702",
     "status": "completed"
    },
    "tags": []
   },
   "outputs": [
    {
     "data": {
      "text/plain": [
       "array([9764.6175583])"
      ]
     },
     "execution_count": 15,
     "metadata": {},
     "output_type": "execute_result"
    }
   ],
   "source": [
    "#slope\n",
    "lr.coef_"
   ]
  },
  {
   "cell_type": "code",
   "execution_count": 16,
   "id": "82c2b6cf",
   "metadata": {
    "execution": {
     "iopub.execute_input": "2022-11-12T15:46:59.577469Z",
     "iopub.status.busy": "2022-11-12T15:46:59.576803Z",
     "iopub.status.idle": "2022-11-12T15:46:59.580460Z",
     "shell.execute_reply": "2022-11-12T15:46:59.579767Z"
    },
    "papermill": {
     "duration": 0.014708,
     "end_time": "2022-11-12T15:46:59.582586",
     "exception": false,
     "start_time": "2022-11-12T15:46:59.567878",
     "status": "completed"
    },
    "tags": []
   },
   "outputs": [],
   "source": [
    "#y=mx+c\n"
   ]
  },
  {
   "cell_type": "code",
   "execution_count": 17,
   "id": "aa358c0a",
   "metadata": {
    "execution": {
     "iopub.execute_input": "2022-11-12T15:46:59.599633Z",
     "iopub.status.busy": "2022-11-12T15:46:59.599203Z",
     "iopub.status.idle": "2022-11-12T15:46:59.607874Z",
     "shell.execute_reply": "2022-11-12T15:46:59.607126Z"
    },
    "papermill": {
     "duration": 0.019626,
     "end_time": "2022-11-12T15:46:59.609804",
     "exception": false,
     "start_time": "2022-11-12T15:46:59.590178",
     "status": "completed"
    },
    "tags": []
   },
   "outputs": [
    {
     "data": {
      "text/plain": [
       "array([ 55265.34219594, 126547.05037149,  52335.95692845, 116782.4328132 ,\n",
       "        55265.34219594, 117758.89456903])"
      ]
     },
     "execution_count": 17,
     "metadata": {},
     "output_type": "execute_result"
    }
   ],
   "source": [
    "y_pred1=lr.predict(x_test)\n",
    "y_pred1"
   ]
  },
  {
   "cell_type": "code",
   "execution_count": 18,
   "id": "3b406540",
   "metadata": {
    "execution": {
     "iopub.execute_input": "2022-11-12T15:46:59.627309Z",
     "iopub.status.busy": "2022-11-12T15:46:59.626634Z",
     "iopub.status.idle": "2022-11-12T15:46:59.634196Z",
     "shell.execute_reply": "2022-11-12T15:46:59.633148Z"
    },
    "papermill": {
     "duration": 0.019,
     "end_time": "2022-11-12T15:46:59.636461",
     "exception": false,
     "start_time": "2022-11-12T15:46:59.617461",
     "status": "completed"
    },
    "tags": []
   },
   "outputs": [
    {
     "data": {
      "text/plain": [
       "7      54445.0\n",
       "29    121872.0\n",
       "5      56642.0\n",
       "26    116969.0\n",
       "8      64445.0\n",
       "27    112635.0\n",
       "Name: Salary, dtype: float64"
      ]
     },
     "execution_count": 18,
     "metadata": {},
     "output_type": "execute_result"
    }
   ],
   "source": [
    "y_test"
   ]
  },
  {
   "cell_type": "code",
   "execution_count": 19,
   "id": "f52ece84",
   "metadata": {
    "execution": {
     "iopub.execute_input": "2022-11-12T15:46:59.653781Z",
     "iopub.status.busy": "2022-11-12T15:46:59.653350Z",
     "iopub.status.idle": "2022-11-12T15:46:59.658472Z",
     "shell.execute_reply": "2022-11-12T15:46:59.657357Z"
    },
    "papermill": {
     "duration": 0.016412,
     "end_time": "2022-11-12T15:46:59.660722",
     "exception": false,
     "start_time": "2022-11-12T15:46:59.644310",
     "status": "completed"
    },
    "tags": []
   },
   "outputs": [],
   "source": [
    "from sklearn.metrics import r2_score,mean_squared_error,mean_absolute_error,mean_absolute_percentage_error"
   ]
  },
  {
   "cell_type": "code",
   "execution_count": 20,
   "id": "267d9003",
   "metadata": {
    "execution": {
     "iopub.execute_input": "2022-11-12T15:46:59.678043Z",
     "iopub.status.busy": "2022-11-12T15:46:59.677614Z",
     "iopub.status.idle": "2022-11-12T15:46:59.686730Z",
     "shell.execute_reply": "2022-11-12T15:46:59.685812Z"
    },
    "papermill": {
     "duration": 0.020187,
     "end_time": "2022-11-12T15:46:59.688726",
     "exception": false,
     "start_time": "2022-11-12T15:46:59.668539",
     "status": "completed"
    },
    "tags": []
   },
   "outputs": [
    {
     "data": {
      "text/plain": [
       "0.9711590965698116"
      ]
     },
     "execution_count": 20,
     "metadata": {},
     "output_type": "execute_result"
    }
   ],
   "source": [
    "r2_score(y_test,y_pred1)"
   ]
  },
  {
   "cell_type": "code",
   "execution_count": 21,
   "id": "1d2e78f8",
   "metadata": {
    "execution": {
     "iopub.execute_input": "2022-11-12T15:46:59.708191Z",
     "iopub.status.busy": "2022-11-12T15:46:59.706676Z",
     "iopub.status.idle": "2022-11-12T15:46:59.716945Z",
     "shell.execute_reply": "2022-11-12T15:46:59.715306Z"
    },
    "papermill": {
     "duration": 0.022704,
     "end_time": "2022-11-12T15:46:59.719569",
     "exception": false,
     "start_time": "2022-11-12T15:46:59.696865",
     "status": "completed"
    },
    "tags": []
   },
   "outputs": [
    {
     "data": {
      "text/plain": [
       "25271047.416312996"
      ]
     },
     "execution_count": 21,
     "metadata": {},
     "output_type": "execute_result"
    }
   ],
   "source": [
    "mean_squared_error(y_test,y_pred1)"
   ]
  },
  {
   "cell_type": "code",
   "execution_count": 22,
   "id": "29f1c2dd",
   "metadata": {
    "execution": {
     "iopub.execute_input": "2022-11-12T15:46:59.737610Z",
     "iopub.status.busy": "2022-11-12T15:46:59.737172Z",
     "iopub.status.idle": "2022-11-12T15:46:59.745526Z",
     "shell.execute_reply": "2022-11-12T15:46:59.744474Z"
    },
    "papermill": {
     "duration": 0.020035,
     "end_time": "2022-11-12T15:46:59.747822",
     "exception": false,
     "start_time": "2022-11-12T15:46:59.727787",
     "status": "completed"
    },
    "tags": []
   },
   "outputs": [
    {
     "data": {
      "text/plain": [
       "4048.5925331456697"
      ]
     },
     "execution_count": 22,
     "metadata": {},
     "output_type": "execute_result"
    }
   ],
   "source": [
    "mean_absolute_error(y_test,y_pred1)"
   ]
  },
  {
   "cell_type": "code",
   "execution_count": 23,
   "id": "bdd41d70",
   "metadata": {
    "execution": {
     "iopub.execute_input": "2022-11-12T15:46:59.766468Z",
     "iopub.status.busy": "2022-11-12T15:46:59.765763Z",
     "iopub.status.idle": "2022-11-12T15:46:59.773695Z",
     "shell.execute_reply": "2022-11-12T15:46:59.772392Z"
    },
    "papermill": {
     "duration": 0.019485,
     "end_time": "2022-11-12T15:46:59.775746",
     "exception": false,
     "start_time": "2022-11-12T15:46:59.756261",
     "status": "completed"
    },
    "tags": []
   },
   "outputs": [
    {
     "data": {
      "text/plain": [
       "0.053162944550416265"
      ]
     },
     "execution_count": 23,
     "metadata": {},
     "output_type": "execute_result"
    }
   ],
   "source": [
    "mean_absolute_percentage_error(y_test,y_pred1)"
   ]
  },
  {
   "cell_type": "raw",
   "id": "d3da9f84",
   "metadata": {
    "papermill": {
     "duration": 0.007941,
     "end_time": "2022-11-12T15:46:59.791949",
     "exception": false,
     "start_time": "2022-11-12T15:46:59.784008",
     "status": "completed"
    },
    "tags": []
   },
   "source": []
  },
  {
   "cell_type": "code",
   "execution_count": 24,
   "id": "560ad8e7",
   "metadata": {
    "execution": {
     "iopub.execute_input": "2022-11-12T15:46:59.810258Z",
     "iopub.status.busy": "2022-11-12T15:46:59.809897Z",
     "iopub.status.idle": "2022-11-12T15:47:00.094196Z",
     "shell.execute_reply": "2022-11-12T15:47:00.092647Z"
    },
    "papermill": {
     "duration": 0.29681,
     "end_time": "2022-11-12T15:47:00.096926",
     "exception": false,
     "start_time": "2022-11-12T15:46:59.800116",
     "status": "completed"
    },
    "tags": []
   },
   "outputs": [
    {
     "data": {
      "text/plain": [
       "[<matplotlib.lines.Line2D at 0x7f99e7bbf4d0>]"
      ]
     },
     "execution_count": 24,
     "metadata": {},
     "output_type": "execute_result"
    },
    {
     "data": {
      "image/png": "[encoded data removed]",
      "text/plain": [
       "<Figure size 432x288 with 1 Axes>"
      ]
     },
     "metadata": {
      "needs_background": "light"
     },
     "output_type": "display_data"
    }
   ],
   "source": [
    "import matplotlib.pyplot as plt\n",
    "plt.scatter(x_test,y_test,c=\"red\")\n",
    "plt.plot(x_test,y_pred1)"
   ]
  },
  {
   "cell_type": "code",
   "execution_count": null,
   "id": "e99be06c",
   "metadata": {
    "papermill": {
     "duration": 0.011505,
     "end_time": "2022-11-12T15:47:00.118462",
     "exception": false,
     "start_time": "2022-11-12T15:47:00.106957",
     "status": "completed"
    },
    "tags": []
   },
   "outputs": [],
   "source": [
    "\n",
    "\n",
    "\n",
    "\n",
    "\n",
    "\n",
    "\n",
    "\n",
    "\n",
    "\n",
    "\n",
    "\n",
    "\n",
    "\n",
    "\n",
    "\n",
    "\n",
    "\n",
    "\n",
    "\n",
    "\n",
    "\n",
    "\n",
    "\n",
    "\n",
    "\n",
    "\n",
    "\n",
    "\n",
    "\n",
    "\n",
    "\n",
    "\n",
    "\n",
    "\n",
    "\n",
    "\n",
    "\n",
    "\n",
    "\n",
    "\n",
    "\n",
    "\n",
    "\n",
    "\n",
    "\n",
    "\n",
    "\n",
    "\n",
    "\n",
    "\n",
    "\n",
    "\n",
    "\n",
    "\n",
    "\n",
    "\n",
    "\n",
    "\n",
    "\n",
    "\n",
    "\n",
    "\n",
    "\n",
    "\n",
    "\n",
    "\n",
    "\n",
    "\n",
    "\n",
    "\n",
    "\n",
    "\n",
    "\n",
    "\n",
    "\n",
    "\n",
    "\n",
    "\n",
    "\n"
   ]
  }
 ],
 "metadata": {
  "kernelspec": {
   "display_name": "Python 3",
   "language": "python",
   "name": "python3"
  },
  "language_info": {
   "codemirror_mode": {
    "name": "ipython",
    "version": 3
   },
   "file_extension": ".py",
   "mimetype": "text/x-python",
   "name": "python",
   "nbconvert_exporter": "python",
   "pygments_lexer": "ipython3",
   "version": "3.7.12"
  },
  "papermill": {
   "default_parameters": {},
   "duration": 11.150513,
   "end_time": "2022-11-12T15:47:00.852799",
   "environment_variables": {},
   "exception": null,
   "input_path": "__notebook__.ipynb",
   "output_path": "__notebook__.ipynb",
   "parameters": {},
   "start_time": "2022-11-12T15:46:49.702286",
   "version": "2.3.4"
  }
 },
 "nbformat": 4,
 "nbformat_minor": 5
}
